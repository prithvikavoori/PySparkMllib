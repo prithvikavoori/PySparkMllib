{
  "nbformat": 4,
  "nbformat_minor": 0,
  "metadata": {
    "colab": {
      "name": "DogFoodChemicalCLassifier.ipynb",
      "provenance": [],
      "authorship_tag": "ABX9TyOgsKXEglYsYyTnPiaz509R",
      "include_colab_link": true
    },
    "kernelspec": {
      "name": "python3",
      "display_name": "Python 3"
    },
    "language_info": {
      "name": "python"
    }
  },
  "cells": [
    {
      "cell_type": "markdown",
      "metadata": {
        "id": "view-in-github",
        "colab_type": "text"
      },
      "source": [
        "<a href=\"https://colab.research.google.com/github/prithvikavoori/PySparkMllib/blob/main/DogFoodChemicalCLassifier.ipynb\" target=\"_parent\"><img src=\"https://colab.research.google.com/assets/colab-badge.svg\" alt=\"Open In Colab\"/></a>"
      ]
    },
    {
      "cell_type": "markdown",
      "metadata": {
        "id": "tDOLipZcwYwP"
      },
      "source": [
        "we are going to build a RandomForest classification model for dog food company to predict which chemicals in the data are causing the food to stale quickly. this model would help us to identify which chemical is causing the damage to the food. the data is available in git hub repository. since this model is being build in google colaboratory always add data to the files after reconnecting "
      ]
    },
    {
      "cell_type": "code",
      "metadata": {
        "id": "42TNmfwtwXri"
      },
      "source": [
        "# innstall java\n",
        "!apt-get install openjdk-8-jdk-headless -qq > /dev/null"
      ],
      "execution_count": 1,
      "outputs": []
    },
    {
      "cell_type": "code",
      "metadata": {
        "id": "o_fSs0eiyA4B"
      },
      "source": [
        "# install spark (change the version number if needed)\n",
        "!wget -q https://archive.apache.org/dist/spark/spark-3.0.0/spark-3.0.0-bin-hadoop3.2.tgz"
      ],
      "execution_count": 2,
      "outputs": []
    },
    {
      "cell_type": "code",
      "metadata": {
        "id": "guPMZVYpyJLl"
      },
      "source": [
        "# unzip the spark file to the current folder\n",
        "!tar xf spark-3.0.0-bin-hadoop3.2.tgz"
      ],
      "execution_count": 3,
      "outputs": []
    },
    {
      "cell_type": "code",
      "metadata": {
        "id": "E5hdQNqbyP7w"
      },
      "source": [
        "# set your spark folder to your system path environment. \n",
        "import os\n",
        "os.environ[\"JAVA_HOME\"] = \"/usr/lib/jvm/java-8-openjdk-amd64\"\n",
        "os.environ[\"SPARK_HOME\"] = \"/content/spark-3.0.0-bin-hadoop3.2\""
      ],
      "execution_count": 4,
      "outputs": []
    },
    {
      "cell_type": "code",
      "metadata": {
        "id": "5od6F4M5yVgf"
      },
      "source": [
        "# install findspark using pip\n",
        "!pip install -q findspark"
      ],
      "execution_count": 5,
      "outputs": []
    },
    {
      "cell_type": "code",
      "metadata": {
        "id": "tlz-N3lgyZXr"
      },
      "source": [
        "import findspark\n",
        "findspark.init()"
      ],
      "execution_count": 6,
      "outputs": []
    },
    {
      "cell_type": "code",
      "metadata": {
        "id": "FbPO-wSdydEN"
      },
      "source": [
        "#Tree methods Example\n",
        "from pyspark.sql import SparkSession\n",
        "spark = SparkSession.builder.appName('dogfood').getOrCreate()"
      ],
      "execution_count": 7,
      "outputs": []
    },
    {
      "cell_type": "code",
      "metadata": {
        "id": "kghTrv1Hyf1l"
      },
      "source": [
        "# Load training data\n",
        "data = spark.read.csv('/content/dog_food.csv',inferSchema=True,header=True)"
      ],
      "execution_count": 8,
      "outputs": []
    },
    {
      "cell_type": "code",
      "metadata": {
        "colab": {
          "base_uri": "https://localhost:8080/"
        },
        "id": "s0hs_a6U0e_S",
        "outputId": "4d44dacb-5064-486a-bdc9-821767a39019"
      },
      "source": [
        "data.printSchema()"
      ],
      "execution_count": 9,
      "outputs": [
        {
          "output_type": "stream",
          "name": "stdout",
          "text": [
            "root\n",
            " |-- A: integer (nullable = true)\n",
            " |-- B: integer (nullable = true)\n",
            " |-- C: double (nullable = true)\n",
            " |-- D: integer (nullable = true)\n",
            " |-- Spoiled: double (nullable = true)\n",
            "\n"
          ]
        }
      ]
    },
    {
      "cell_type": "code",
      "metadata": {
        "colab": {
          "base_uri": "https://localhost:8080/"
        },
        "id": "ZXByE-JO0j0N",
        "outputId": "9cad2f65-8996-46b3-a13b-572768e85f36"
      },
      "source": [
        "data.head()"
      ],
      "execution_count": 10,
      "outputs": [
        {
          "output_type": "execute_result",
          "data": {
            "text/plain": [
              "Row(A=4, B=2, C=12.0, D=3, Spoiled=1.0)"
            ]
          },
          "metadata": {},
          "execution_count": 10
        }
      ]
    },
    {
      "cell_type": "code",
      "metadata": {
        "colab": {
          "base_uri": "https://localhost:8080/"
        },
        "id": "DqqaZ29H0qx8",
        "outputId": "ff8c965a-ee75-43d4-8103-ba9302b57a63"
      },
      "source": [
        "data.describe().show()"
      ],
      "execution_count": 11,
      "outputs": [
        {
          "output_type": "stream",
          "name": "stdout",
          "text": [
            "+-------+------------------+------------------+------------------+------------------+-------------------+\n",
            "|summary|                 A|                 B|                 C|                 D|            Spoiled|\n",
            "+-------+------------------+------------------+------------------+------------------+-------------------+\n",
            "|  count|               490|               490|               490|               490|                490|\n",
            "|   mean|  5.53469387755102| 5.504081632653061| 9.126530612244897| 5.579591836734694| 0.2857142857142857|\n",
            "| stddev|2.9515204234399057|2.8537966089662063|2.0555451971054275|2.8548369309982857|0.45221563164613465|\n",
            "|    min|                 1|                 1|               5.0|                 1|                0.0|\n",
            "|    max|                10|                10|              14.0|                10|                1.0|\n",
            "+-------+------------------+------------------+------------------+------------------+-------------------+\n",
            "\n"
          ]
        }
      ]
    },
    {
      "cell_type": "code",
      "metadata": {
        "id": "cNoOS6Cd0tZ_"
      },
      "source": [
        "# Import VectorAssembler and Vectors\n",
        "from pyspark.ml.linalg import Vectors\n",
        "from pyspark.ml.feature import VectorAssembler"
      ],
      "execution_count": 12,
      "outputs": []
    },
    {
      "cell_type": "code",
      "metadata": {
        "colab": {
          "base_uri": "https://localhost:8080/"
        },
        "id": "VEsOyFqP00mf",
        "outputId": "328b3030-44a1-437f-ab22-9c86d528181d"
      },
      "source": [
        "data.columns"
      ],
      "execution_count": 13,
      "outputs": [
        {
          "output_type": "execute_result",
          "data": {
            "text/plain": [
              "['A', 'B', 'C', 'D', 'Spoiled']"
            ]
          },
          "metadata": {},
          "execution_count": 13
        }
      ]
    },
    {
      "cell_type": "code",
      "metadata": {
        "id": "OKAf6yGB06LD"
      },
      "source": [
        "assembler = VectorAssembler(inputCols=['A', 'B', 'C', 'D'],outputCol=\"features\")"
      ],
      "execution_count": 14,
      "outputs": []
    },
    {
      "cell_type": "code",
      "metadata": {
        "id": "fKAfFBRk1CDj"
      },
      "source": [
        "output = assembler.transform(data)"
      ],
      "execution_count": 15,
      "outputs": []
    },
    {
      "cell_type": "code",
      "metadata": {
        "id": "b8XlJpIl1E5I"
      },
      "source": [
        "from pyspark.ml.classification import RandomForestClassifier,DecisionTreeClassifier"
      ],
      "execution_count": 16,
      "outputs": []
    },
    {
      "cell_type": "code",
      "metadata": {
        "id": "HMvFEFgP1KuX"
      },
      "source": [
        "dtc = DecisionTreeClassifier(labelCol='Spoiled',featuresCol='features')\n",
        "rfc = RandomForestClassifier(labelCol='Spoiled',featuresCol='features')"
      ],
      "execution_count": 17,
      "outputs": []
    },
    {
      "cell_type": "code",
      "metadata": {
        "colab": {
          "base_uri": "https://localhost:8080/"
        },
        "id": "cB1hyy4Y1cQr",
        "outputId": "62727937-f9df-4722-d67e-b4f3cf8d9903"
      },
      "source": [
        "output.printSchema()"
      ],
      "execution_count": 18,
      "outputs": [
        {
          "output_type": "stream",
          "name": "stdout",
          "text": [
            "root\n",
            " |-- A: integer (nullable = true)\n",
            " |-- B: integer (nullable = true)\n",
            " |-- C: double (nullable = true)\n",
            " |-- D: integer (nullable = true)\n",
            " |-- Spoiled: double (nullable = true)\n",
            " |-- features: vector (nullable = true)\n",
            "\n"
          ]
        }
      ]
    },
    {
      "cell_type": "code",
      "metadata": {
        "colab": {
          "base_uri": "https://localhost:8080/"
        },
        "id": "SLHV8fhm1lRT",
        "outputId": "8385b14b-3e42-41d2-dda7-4ae4ac17bceb"
      },
      "source": [
        "final_data = output.select('features','Spoiled')\n",
        "final_data.head()"
      ],
      "execution_count": 19,
      "outputs": [
        {
          "output_type": "execute_result",
          "data": {
            "text/plain": [
              "Row(features=DenseVector([4.0, 2.0, 12.0, 3.0]), Spoiled=1.0)"
            ]
          },
          "metadata": {},
          "execution_count": 19
        }
      ]
    },
    {
      "cell_type": "code",
      "metadata": {
        "id": "A9kRBWPq1qGo"
      },
      "source": [
        "rfc_model = rfc.fit(final_data)\n",
        "dtc_model = dtc.fit(final_data)"
      ],
      "execution_count": 20,
      "outputs": []
    },
    {
      "cell_type": "code",
      "metadata": {
        "colab": {
          "base_uri": "https://localhost:8080/"
        },
        "id": "oPcfh4Xp179A",
        "outputId": "2556c184-7ef7-4fdf-d9ab-e82eb97fa6c5"
      },
      "source": [
        "rfc_model.featureImportances"
      ],
      "execution_count": 21,
      "outputs": [
        {
          "output_type": "execute_result",
          "data": {
            "text/plain": [
              "SparseVector(4, {0: 0.021, 1: 0.0187, 2: 0.9343, 3: 0.0259})"
            ]
          },
          "metadata": {},
          "execution_count": 21
        }
      ]
    },
    {
      "cell_type": "code",
      "metadata": {
        "colab": {
          "base_uri": "https://localhost:8080/"
        },
        "id": "Nxe3pM5x2BVS",
        "outputId": "942e7c9e-7664-4b54-b9e3-5ac76166cbb5"
      },
      "source": [
        "dtc_model.featureImportances"
      ],
      "execution_count": 26,
      "outputs": [
        {
          "output_type": "execute_result",
          "data": {
            "text/plain": [
              "SparseVector(4, {1: 0.0019, 2: 0.9832, 3: 0.0149})"
            ]
          },
          "metadata": {},
          "execution_count": 26
        }
      ]
    },
    {
      "cell_type": "markdown",
      "metadata": {
        "id": "h_gVCqRc3hnL"
      },
      "source": [
        "from the feature importance of the 2 models we can conclude that chemical at index 2 which is chemical c is the one spoiling the dog food "
      ]
    },
    {
      "cell_type": "code",
      "metadata": {
        "id": "iwjBiU3t2eb9"
      },
      "source": [
        ""
      ],
      "execution_count": null,
      "outputs": []
    }
  ]
}