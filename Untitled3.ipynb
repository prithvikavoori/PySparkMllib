{
  "nbformat": 4,
  "nbformat_minor": 0,
  "metadata": {
    "colab": {
      "name": "Untitled3.ipynb",
      "provenance": [],
      "authorship_tag": "ABX9TyPw5XxzH3CBZbNjj6SgbUlr",
      "include_colab_link": true
    },
    "kernelspec": {
      "name": "python3",
      "display_name": "Python 3"
    },
    "language_info": {
      "name": "python"
    }
  },
  "cells": [
    {
      "cell_type": "markdown",
      "metadata": {
        "id": "view-in-github",
        "colab_type": "text"
      },
      "source": [
        "<a href=\"https://colab.research.google.com/github/prithvikavoori/PySparkMllib/blob/main/Untitled3.ipynb\" target=\"_parent\"><img src=\"https://colab.research.google.com/assets/colab-badge.svg\" alt=\"Open In Colab\"/></a>"
      ]
    },
    {
      "cell_type": "markdown",
      "metadata": {
        "id": "OmEUCjfOtMYU"
      },
      "source": [
        "in this model we are going to bulild a movie rcomendation system. The two widely used approaches for building a recommender system are the content-based filtering (CBF) and collaborative filtering (CF). in this model we will be using Spark MLlib library for Machine Learning provides a Collaborative Filtering implementation by using Alternating Least Squares. "
      ]
    },
    {
      "cell_type": "code",
      "metadata": {
        "id": "8mRugEDDnfi8"
      },
      "source": [
        "# innstall java\n",
        "!apt-get install openjdk-8-jdk-headless -qq > /dev/null"
      ],
      "execution_count": 1,
      "outputs": []
    },
    {
      "cell_type": "code",
      "metadata": {
        "id": "xwpx9vjGnmfo"
      },
      "source": [
        "# install spark (change the version number if needed)\n",
        "!wget -q https://archive.apache.org/dist/spark/spark-3.0.0/spark-3.0.0-bin-hadoop3.2.tgz"
      ],
      "execution_count": 2,
      "outputs": []
    },
    {
      "cell_type": "code",
      "metadata": {
        "id": "Ec-oUD7LpxF2"
      },
      "source": [
        "# unzip the spark file to the current folder\n",
        "!tar xf spark-3.0.0-bin-hadoop3.2.tgz"
      ],
      "execution_count": 3,
      "outputs": []
    },
    {
      "cell_type": "code",
      "metadata": {
        "id": "CuKQU-AHp6PM"
      },
      "source": [
        "# set your spark folder to your system path environment. \n",
        "import os\n",
        "os.environ[\"JAVA_HOME\"] = \"/usr/lib/jvm/java-8-openjdk-amd64\"\n",
        "os.environ[\"SPARK_HOME\"] = \"/content/spark-3.0.0-bin-hadoop3.2\""
      ],
      "execution_count": 4,
      "outputs": []
    },
    {
      "cell_type": "code",
      "metadata": {
        "id": "ig4LER4Wp9eM"
      },
      "source": [
        "# install findspark using pip\n",
        "!pip install -q findspark"
      ],
      "execution_count": 5,
      "outputs": []
    },
    {
      "cell_type": "code",
      "metadata": {
        "id": "BqXHUEg5qAS9"
      },
      "source": [
        "import findspark\n",
        "findspark.init()"
      ],
      "execution_count": 6,
      "outputs": []
    },
    {
      "cell_type": "code",
      "metadata": {
        "id": "lGWzULjKqD-F"
      },
      "source": [
        "from pyspark.sql import SparkSession"
      ],
      "execution_count": 7,
      "outputs": []
    },
    {
      "cell_type": "code",
      "metadata": {
        "id": "udn71p2UqsoH"
      },
      "source": [
        "spark = SparkSession.builder.appName('rec').getOrCreate()"
      ],
      "execution_count": 8,
      "outputs": []
    },
    {
      "cell_type": "code",
      "metadata": {
        "id": "OsE_0VGmqxWm"
      },
      "source": [
        "from pyspark.ml.evaluation import RegressionEvaluator\n",
        "from pyspark.ml.recommendation import ALS"
      ],
      "execution_count": 9,
      "outputs": []
    },
    {
      "cell_type": "code",
      "metadata": {
        "id": "kDR327NwrFgK"
      },
      "source": [
        "data = spark.read.csv('/content/movielens_ratings.csv',inferSchema=True,header=True)"
      ],
      "execution_count": 10,
      "outputs": []
    },
    {
      "cell_type": "code",
      "metadata": {
        "colab": {
          "base_uri": "https://localhost:8080/"
        },
        "id": "Qf2nzyLirT2c",
        "outputId": "907a360d-901e-4350-cf70-be96f025d0e2"
      },
      "source": [
        "data.head()"
      ],
      "execution_count": 11,
      "outputs": [
        {
          "output_type": "execute_result",
          "data": {
            "text/plain": [
              "Row(movieId=2, rating=3.0, userId=0)"
            ]
          },
          "metadata": {},
          "execution_count": 11
        }
      ]
    },
    {
      "cell_type": "code",
      "metadata": {
        "colab": {
          "base_uri": "https://localhost:8080/"
        },
        "id": "UI2thX4mrZYY",
        "outputId": "cc23fec4-bd1c-4173-a597-11b2113a66d5"
      },
      "source": [
        "data.describe().show()"
      ],
      "execution_count": 12,
      "outputs": [
        {
          "output_type": "stream",
          "name": "stdout",
          "text": [
            "+-------+------------------+------------------+------------------+\n",
            "|summary|           movieId|            rating|            userId|\n",
            "+-------+------------------+------------------+------------------+\n",
            "|  count|              1501|              1501|              1501|\n",
            "|   mean| 49.40572951365756|1.7741505662891406|14.383744170552964|\n",
            "| stddev|28.937034065088994| 1.187276166124803| 8.591040424293272|\n",
            "|    min|                 0|               1.0|                 0|\n",
            "|    max|                99|               5.0|                29|\n",
            "+-------+------------------+------------------+------------------+\n",
            "\n"
          ]
        }
      ]
    },
    {
      "cell_type": "code",
      "metadata": {
        "id": "dBlRpL6HrchE"
      },
      "source": [
        "# Smaller dataset so we will use 0.8 / 0.2\n",
        "(training, test) = data.randomSplit([0.8, 0.2])"
      ],
      "execution_count": 13,
      "outputs": []
    },
    {
      "cell_type": "code",
      "metadata": {
        "id": "oxQYtRITriJU"
      },
      "source": [
        "# Build the recommendation model using ALS on the training data\n",
        "als = ALS(maxIter=5, regParam=0.01, userCol=\"userId\", itemCol=\"movieId\", ratingCol=\"rating\")\n",
        "model = als.fit(training)"
      ],
      "execution_count": 14,
      "outputs": []
    },
    {
      "cell_type": "code",
      "metadata": {
        "id": "yiq8pc6yroNu"
      },
      "source": [
        "# Evaluate the model by computing the RMSE on the test data\n",
        "predictions = model.transform(test)"
      ],
      "execution_count": 15,
      "outputs": []
    },
    {
      "cell_type": "code",
      "metadata": {
        "colab": {
          "base_uri": "https://localhost:8080/"
        },
        "id": "PfaTn_6RslXb",
        "outputId": "39258980-e6b3-4a40-fe04-85eaf692b785"
      },
      "source": [
        "predictions.show()"
      ],
      "execution_count": 16,
      "outputs": [
        {
          "output_type": "stream",
          "name": "stdout",
          "text": [
            "+-------+------+------+----------+\n",
            "|movieId|rating|userId|prediction|\n",
            "+-------+------+------+----------+\n",
            "|     31|   1.0|    27|0.49222815|\n",
            "|     31|   1.0|    13| 0.9286722|\n",
            "|     31|   1.0|     4| 1.5312726|\n",
            "|     31|   2.0|    25|0.16272128|\n",
            "|     85|   1.0|    28| 2.8828676|\n",
            "|     85|   1.0|    12|  5.299272|\n",
            "|     85|   1.0|    13| 2.3319008|\n",
            "|     85|   1.0|    23|-2.8673272|\n",
            "|     85|   1.0|     2| 3.4316366|\n",
            "|     65|   1.0|    16| 0.9358736|\n",
            "|     65|   2.0|    15| 2.3861184|\n",
            "|     65|   1.0|    24|0.26131895|\n",
            "|     53|   3.0|    13|0.89245224|\n",
            "|     53|   3.0|    20|0.19800025|\n",
            "|     53|   2.0|    19| 3.8335032|\n",
            "|     53|   1.0|    25| 1.8976047|\n",
            "|     78|   1.0|    12|  1.072274|\n",
            "|     78|   1.0|    13| 0.9280768|\n",
            "|     78|   1.0|    17|0.92868364|\n",
            "|     78|   1.0|     2|0.96067065|\n",
            "+-------+------+------+----------+\n",
            "only showing top 20 rows\n",
            "\n"
          ]
        }
      ]
    },
    {
      "cell_type": "code",
      "metadata": {
        "colab": {
          "base_uri": "https://localhost:8080/"
        },
        "id": "Bpzv_MWhsouF",
        "outputId": "bc61f507-f5e4-433d-dbec-54a7f50c5286"
      },
      "source": [
        "evaluator = RegressionEvaluator(metricName=\"rmse\", labelCol=\"rating\",predictionCol=\"prediction\")\n",
        "rmse = evaluator.evaluate(predictions)\n",
        "print(\"Root-mean-square error = \" + str(rmse))"
      ],
      "execution_count": 17,
      "outputs": [
        {
          "output_type": "stream",
          "name": "stdout",
          "text": [
            "Root-mean-square error = 1.7320719671541809\n"
          ]
        }
      ]
    },
    {
      "cell_type": "code",
      "metadata": {
        "id": "3nZxXTplswQB"
      },
      "source": [
        "single_user = test.filter(test['userId']==11).select(['movieId','userId'])"
      ],
      "execution_count": 18,
      "outputs": []
    },
    {
      "cell_type": "markdown",
      "metadata": {
        "id": "dn9Z9zfpuBW9"
      },
      "source": [
        "movie predictions for user 11 in the data set "
      ]
    },
    {
      "cell_type": "code",
      "metadata": {
        "colab": {
          "base_uri": "https://localhost:8080/"
        },
        "id": "p5D3bLu7s842",
        "outputId": "f2f27e13-6ef1-405a-ab3b-e0e2e7ca6615"
      },
      "source": [
        "# User had 10 ratings in the test data set \n",
        "# Realistically this should be some sort of hold out set!\n",
        "single_user.show()"
      ],
      "execution_count": 19,
      "outputs": [
        {
          "output_type": "stream",
          "name": "stdout",
          "text": [
            "+-------+------+\n",
            "|movieId|userId|\n",
            "+-------+------+\n",
            "|      0|    11|\n",
            "|     10|    11|\n",
            "|     13|    11|\n",
            "|     16|    11|\n",
            "|     35|    11|\n",
            "|     38|    11|\n",
            "|     41|    11|\n",
            "|     64|    11|\n",
            "|     66|    11|\n",
            "|     70|    11|\n",
            "|     75|    11|\n",
            "|     77|    11|\n",
            "|     80|    11|\n",
            "|     86|    11|\n",
            "|     88|    11|\n",
            "+-------+------+\n",
            "\n"
          ]
        }
      ]
    },
    {
      "cell_type": "code",
      "metadata": {
        "id": "2mHo6TGAtAV6"
      },
      "source": [
        "reccomendations = model.transform(single_user)"
      ],
      "execution_count": 20,
      "outputs": []
    },
    {
      "cell_type": "code",
      "metadata": {
        "colab": {
          "base_uri": "https://localhost:8080/"
        },
        "id": "D7cOt62NtFho",
        "outputId": "9955a15a-e83e-44d5-d080-d4cf4fca3ee9"
      },
      "source": [
        "reccomendations.orderBy('prediction',ascending=False).show()"
      ],
      "execution_count": 21,
      "outputs": [
        {
          "output_type": "stream",
          "name": "stdout",
          "text": [
            "+-------+------+----------+\n",
            "|movieId|userId|prediction|\n",
            "+-------+------+----------+\n",
            "|     38|    11| 6.4757886|\n",
            "|     10|    11| 4.3186975|\n",
            "|     64|    11| 3.4044523|\n",
            "|      0|    11| 3.0508053|\n",
            "|     77|    11| 2.7918453|\n",
            "|     13|    11| 2.1801016|\n",
            "|     80|    11| 2.1366389|\n",
            "|     66|    11| 1.9555689|\n",
            "|     86|    11| 1.7209415|\n",
            "|     88|    11| 0.7174297|\n",
            "|     70|    11|0.70029485|\n",
            "|     75|    11|0.33677298|\n",
            "|     35|    11|-0.5810823|\n",
            "|     41|    11|-1.0040894|\n",
            "|     16|    11| -1.304727|\n",
            "+-------+------+----------+\n",
            "\n"
          ]
        }
      ]
    },
    {
      "cell_type": "code",
      "metadata": {
        "id": "aS5gSsRftIRI"
      },
      "source": [
        ""
      ],
      "execution_count": null,
      "outputs": []
    }
  ]
}