{
  "nbformat": 4,
  "nbformat_minor": 0,
  "metadata": {
    "colab": {
      "name": "LinearRegressionPysparkModel.ipynb",
      "provenance": [],
      "collapsed_sections": [],
      "authorship_tag": "ABX9TyOtcOCr3Ck9iA6bJRzcirNq",
      "include_colab_link": true
    },
    "kernelspec": {
      "name": "python3",
      "display_name": "Python 3"
    },
    "language_info": {
      "name": "python"
    }
  },
  "cells": [
    {
      "cell_type": "markdown",
      "metadata": {
        "id": "view-in-github",
        "colab_type": "text"
      },
      "source": [
        "<a href=\"https://colab.research.google.com/github/prithvikavoori/PySparkMllib/blob/main/LinearRegressionPysparkModel.ipynb\" target=\"_parent\"><img src=\"https://colab.research.google.com/assets/colab-badge.svg\" alt=\"Open In Colab\"/></a>"
      ]
    },
    {
      "cell_type": "code",
      "metadata": {
        "id": "puaeD2O0Luoi"
      },
      "source": [
        "# innstall java\n",
        "!apt-get install openjdk-8-jdk-headless -qq > /dev/null"
      ],
      "execution_count": 36,
      "outputs": []
    },
    {
      "cell_type": "markdown",
      "metadata": {
        "id": "2MOG9CFzzILG"
      },
      "source": [
        "In this model we will examine some ecommerce customers data for companyny website and mobile app to predict a customer's total amount expenditure\n",
        "\n",
        "--> we have to convert the data in to the format accepted by sparks MLlib\n",
        "\n",
        "--> the data used in this model will be available with this model"
      ]
    },
    {
      "cell_type": "markdown",
      "metadata": {
        "id": "ahu0vdQd3BGR"
      },
      "source": [
        "Setting up Pyspark"
      ]
    },
    {
      "cell_type": "code",
      "metadata": {
        "id": "xzWLjyLFLybh"
      },
      "source": [
        "# install spark (change the version number if needed)\n",
        "!wget -q https://archive.apache.org/dist/spark/spark-3.0.0/spark-3.0.0-bin-hadoop3.2.tgz"
      ],
      "execution_count": 37,
      "outputs": []
    },
    {
      "cell_type": "code",
      "metadata": {
        "id": "UaBBtv4AL9mL"
      },
      "source": [
        "# unzip the spark file to the current folder\n",
        "!tar xf spark-3.0.0-bin-hadoop3.2.tgz"
      ],
      "execution_count": 38,
      "outputs": []
    },
    {
      "cell_type": "code",
      "metadata": {
        "id": "puy0RE4gMGL2"
      },
      "source": [
        "# set your spark folder to your system path environment. \n",
        "import os\n",
        "os.environ[\"JAVA_HOME\"] = \"/usr/lib/jvm/java-8-openjdk-amd64\"\n",
        "os.environ[\"SPARK_HOME\"] = \"/content/spark-3.0.0-bin-hadoop3.2\""
      ],
      "execution_count": 39,
      "outputs": []
    },
    {
      "cell_type": "code",
      "metadata": {
        "id": "R6bLgVHOMMyO"
      },
      "source": [
        "# install findspark using pip\n",
        "!pip install -q findspark"
      ],
      "execution_count": 41,
      "outputs": []
    },
    {
      "cell_type": "code",
      "metadata": {
        "id": "u5rxYe4dMQtn"
      },
      "source": [
        "import findspark\n",
        "findspark.init()"
      ],
      "execution_count": 42,
      "outputs": []
    },
    {
      "cell_type": "code",
      "metadata": {
        "id": "jAj5b3x337Br"
      },
      "source": [
        ""
      ],
      "execution_count": null,
      "outputs": []
    },
    {
      "cell_type": "code",
      "metadata": {
        "id": "mu_pwCt-MZN7"
      },
      "source": [
        "from pyspark.sql import SparkSession"
      ],
      "execution_count": 43,
      "outputs": []
    },
    {
      "cell_type": "code",
      "metadata": {
        "id": "qUwMn6CXoiiz"
      },
      "source": [
        "spark= SparkSession.builder.appName(\"lr_example\").getOrCreate()"
      ],
      "execution_count": 44,
      "outputs": []
    },
    {
      "cell_type": "code",
      "metadata": {
        "id": "J3OKtI7S4Wjc"
      },
      "source": [
        "# read the data \n",
        "data=spark.read.csv(\"/content/Ecommerce_Customers.csv\",inferSchema=True,header=True)"
      ],
      "execution_count": 46,
      "outputs": []
    },
    {
      "cell_type": "code",
      "metadata": {
        "colab": {
          "base_uri": "https://localhost:8080/"
        },
        "id": "pihRdWav5LO6",
        "outputId": "c814d78a-dba0-4828-cdf6-b2123adac902"
      },
      "source": [
        "# to view the schema of the data \n",
        "data.printSchema()"
      ],
      "execution_count": 48,
      "outputs": [
        {
          "output_type": "stream",
          "name": "stdout",
          "text": [
            "root\n",
            " |-- Email: string (nullable = true)\n",
            " |-- Address: string (nullable = true)\n",
            " |-- Avatar: string (nullable = true)\n",
            " |-- Avg Session Length: double (nullable = true)\n",
            " |-- Time on App: double (nullable = true)\n",
            " |-- Time on Website: double (nullable = true)\n",
            " |-- Length of Membership: double (nullable = true)\n",
            " |-- Yearly Amount Spent: double (nullable = true)\n",
            "\n"
          ]
        }
      ]
    },
    {
      "cell_type": "code",
      "metadata": {
        "colab": {
          "base_uri": "https://localhost:8080/"
        },
        "id": "KnDmX16b5lrH",
        "outputId": "039bfa74-fd98-4dcb-de9e-e417bf0c0ceb"
      },
      "source": [
        "data.head(1)"
      ],
      "execution_count": 49,
      "outputs": [
        {
          "output_type": "execute_result",
          "data": {
            "text/plain": [
              "[Row(Email='mstephenson@fernandez.com', Address='835 Frank TunnelWrightmouth, MI 82180-9605', Avatar='Violet', Avg Session Length=34.49726772511229, Time on App=12.65565114916675, Time on Website=39.57766801952616, Length of Membership=4.0826206329529615, Yearly Amount Spent=587.9510539684005)]"
            ]
          },
          "metadata": {},
          "execution_count": 49
        }
      ]
    },
    {
      "cell_type": "code",
      "metadata": {
        "colab": {
          "base_uri": "https://localhost:8080/"
        },
        "id": "ipSMRblO5tas",
        "outputId": "149ed9c8-5639-4db8-88a9-8647dd2da544"
      },
      "source": [
        "for item in data.head(1)[0]:\n",
        "  print(item)"
      ],
      "execution_count": 50,
      "outputs": [
        {
          "output_type": "stream",
          "name": "stdout",
          "text": [
            "mstephenson@fernandez.com\n",
            "835 Frank TunnelWrightmouth, MI 82180-9605\n",
            "Violet\n",
            "34.49726772511229\n",
            "12.65565114916675\n",
            "39.57766801952616\n",
            "4.0826206329529615\n",
            "587.9510539684005\n"
          ]
        }
      ]
    },
    {
      "cell_type": "code",
      "metadata": {
        "id": "xGqGcCNj6Ssv"
      },
      "source": [
        "from pyspark.ml.linalg import Vectors\n",
        "from pyspark.ml.feature import VectorAssembler"
      ],
      "execution_count": 51,
      "outputs": []
    },
    {
      "cell_type": "code",
      "metadata": {
        "colab": {
          "base_uri": "https://localhost:8080/"
        },
        "id": "Mk8N_dgB6oGv",
        "outputId": "97797c73-8ab6-4cb4-eea9-c9492b535248"
      },
      "source": [
        "data.columns"
      ],
      "execution_count": 52,
      "outputs": [
        {
          "output_type": "execute_result",
          "data": {
            "text/plain": [
              "['Email',\n",
              " 'Address',\n",
              " 'Avatar',\n",
              " 'Avg Session Length',\n",
              " 'Time on App',\n",
              " 'Time on Website',\n",
              " 'Length of Membership',\n",
              " 'Yearly Amount Spent']"
            ]
          },
          "metadata": {},
          "execution_count": 52
        }
      ]
    },
    {
      "cell_type": "markdown",
      "metadata": {
        "id": "UF6qtWa16x6F"
      },
      "source": [
        "in the above data columns we are only interested in Avg Session Length',\n",
        " 'Time on App',\n",
        " 'Time on Website',\n",
        " 'Length of Membership' to predict Yearly Amount Spent"
      ]
    },
    {
      "cell_type": "code",
      "metadata": {
        "id": "S6ILEDek7ULL"
      },
      "source": [
        "assembler=VectorAssembler(inputCols=['Avg Session Length','Time on App','Time on Website','Length of Membership'],outputCol='features' )"
      ],
      "execution_count": 53,
      "outputs": []
    },
    {
      "cell_type": "code",
      "metadata": {
        "id": "1HKHX9-r8jCP"
      },
      "source": [
        "#transforming the data \n",
        "\n",
        "output=assembler.transform(data)"
      ],
      "execution_count": 54,
      "outputs": []
    },
    {
      "cell_type": "code",
      "metadata": {
        "colab": {
          "base_uri": "https://localhost:8080/"
        },
        "id": "Abd9YAif808O",
        "outputId": "1fc342f3-583a-4d17-e5c2-045faa876849"
      },
      "source": [
        "output.printSchema()"
      ],
      "execution_count": 55,
      "outputs": [
        {
          "output_type": "stream",
          "name": "stdout",
          "text": [
            "root\n",
            " |-- Email: string (nullable = true)\n",
            " |-- Address: string (nullable = true)\n",
            " |-- Avatar: string (nullable = true)\n",
            " |-- Avg Session Length: double (nullable = true)\n",
            " |-- Time on App: double (nullable = true)\n",
            " |-- Time on Website: double (nullable = true)\n",
            " |-- Length of Membership: double (nullable = true)\n",
            " |-- Yearly Amount Spent: double (nullable = true)\n",
            " |-- features: vector (nullable = true)\n",
            "\n"
          ]
        }
      ]
    },
    {
      "cell_type": "code",
      "metadata": {
        "colab": {
          "base_uri": "https://localhost:8080/"
        },
        "id": "x96X-SMW9Ftg",
        "outputId": "d83b53e8-86c3-47ae-b1ac-ae4dc018065e"
      },
      "source": [
        "output.head(1)"
      ],
      "execution_count": 56,
      "outputs": [
        {
          "output_type": "execute_result",
          "data": {
            "text/plain": [
              "[Row(Email='mstephenson@fernandez.com', Address='835 Frank TunnelWrightmouth, MI 82180-9605', Avatar='Violet', Avg Session Length=34.49726772511229, Time on App=12.65565114916675, Time on Website=39.57766801952616, Length of Membership=4.0826206329529615, Yearly Amount Spent=587.9510539684005, features=DenseVector([34.4973, 12.6557, 39.5777, 4.0826]))]"
            ]
          },
          "metadata": {},
          "execution_count": 56
        }
      ]
    },
    {
      "cell_type": "code",
      "metadata": {
        "id": "HGb72BvH9PL0"
      },
      "source": [
        "final_data=output.select('features','Yearly Amount Spent')"
      ],
      "execution_count": 57,
      "outputs": []
    },
    {
      "cell_type": "code",
      "metadata": {
        "colab": {
          "base_uri": "https://localhost:8080/"
        },
        "id": "6NqTuiWe9pCa",
        "outputId": "301c97a5-f9c3-4cfd-9d33-a5d98e2f454f"
      },
      "source": [
        "final_data.show()"
      ],
      "execution_count": 59,
      "outputs": [
        {
          "output_type": "stream",
          "name": "stdout",
          "text": [
            "+--------------------+-------------------+\n",
            "|            features|Yearly Amount Spent|\n",
            "+--------------------+-------------------+\n",
            "|[34.4972677251122...|  587.9510539684005|\n",
            "|[31.9262720263601...|  392.2049334443264|\n",
            "|[33.0009147556426...| 487.54750486747207|\n",
            "|[34.3055566297555...|  581.8523440352177|\n",
            "|[33.3306725236463...|  599.4060920457634|\n",
            "|[33.8710378793419...|   637.102447915074|\n",
            "|[32.0215955013870...|  521.5721747578274|\n",
            "|[32.7391429383803...|  549.9041461052942|\n",
            "|[33.9877728956856...|  570.2004089636196|\n",
            "|[31.9365486184489...|  427.1993848953282|\n",
            "|[33.9925727749537...|  492.6060127179966|\n",
            "|[33.8793608248049...|  522.3374046069357|\n",
            "|[29.5324289670579...|  408.6403510726275|\n",
            "|[33.1903340437226...|  573.4158673313865|\n",
            "|[32.3879758531538...|  470.4527333009554|\n",
            "|[30.7377203726281...|  461.7807421962299|\n",
            "|[32.1253868972878...| 457.84769594494855|\n",
            "|[32.3388993230671...| 407.70454754954415|\n",
            "|[32.1878120459321...|  452.3156754800354|\n",
            "|[32.6178560628234...|   605.061038804892|\n",
            "+--------------------+-------------------+\n",
            "only showing top 20 rows\n",
            "\n"
          ]
        }
      ]
    },
    {
      "cell_type": "code",
      "metadata": {
        "id": "wJcY4TRL95rd"
      },
      "source": [
        "# spliting our data in train data and test data \n",
        "train_data,test_data=final_data.randomSplit([0.7,0.3])"
      ],
      "execution_count": 60,
      "outputs": []
    },
    {
      "cell_type": "code",
      "metadata": {
        "colab": {
          "base_uri": "https://localhost:8080/"
        },
        "id": "R42UI3Kx-RlT",
        "outputId": "9ef9c6b5-6aca-439b-b2e5-8624dc5dd9d4"
      },
      "source": [
        "train_data.describe().show()"
      ],
      "execution_count": 61,
      "outputs": [
        {
          "output_type": "stream",
          "name": "stdout",
          "text": [
            "+-------+-------------------+\n",
            "|summary|Yearly Amount Spent|\n",
            "+-------+-------------------+\n",
            "|  count|                336|\n",
            "|   mean| 500.59290269775556|\n",
            "| stddev|  79.23038166364948|\n",
            "|    min| 256.67058229005585|\n",
            "|    max|  765.5184619388373|\n",
            "+-------+-------------------+\n",
            "\n"
          ]
        }
      ]
    },
    {
      "cell_type": "code",
      "metadata": {
        "colab": {
          "base_uri": "https://localhost:8080/"
        },
        "id": "J3uXA5QW-aF_",
        "outputId": "63e6909d-536d-4555-fd81-976bee360ab9"
      },
      "source": [
        "test_data.describe().show()"
      ],
      "execution_count": 62,
      "outputs": [
        {
          "output_type": "stream",
          "name": "stdout",
          "text": [
            "+-------+-------------------+\n",
            "|summary|Yearly Amount Spent|\n",
            "+-------+-------------------+\n",
            "|  count|                164|\n",
            "|   mean| 496.69392574908284|\n",
            "| stddev|  79.66587377355407|\n",
            "|    min|  275.9184206503857|\n",
            "|    max|  725.5848140556806|\n",
            "+-------+-------------------+\n",
            "\n"
          ]
        }
      ]
    },
    {
      "cell_type": "code",
      "metadata": {
        "id": "O3LKETSd-ouN"
      },
      "source": [
        "# creating a linear regression model \n",
        "lr=LinearRegression(labelCol=\"Yearly Amount Spent\")\n",
        "lr_model=lr.fit(train_data)"
      ],
      "execution_count": 64,
      "outputs": []
    },
    {
      "cell_type": "code",
      "metadata": {
        "colab": {
          "base_uri": "https://localhost:8080/"
        },
        "id": "W1sde9hk_R86",
        "outputId": "2a0227ba-7ecc-44d1-8576-e25ea4e81db6"
      },
      "source": [
        "#Evaluating a model \n",
        "test_results=lr_model.evaluate(test_data)\n",
        "test_results.residuals.show()"
      ],
      "execution_count": 65,
      "outputs": [
        {
          "output_type": "stream",
          "name": "stdout",
          "text": [
            "+-------------------+\n",
            "|          residuals|\n",
            "+-------------------+\n",
            "| -4.690168424876845|\n",
            "|  6.405784420811187|\n",
            "|-22.060001236933545|\n",
            "| -4.087183937086593|\n",
            "|  2.887681062571687|\n",
            "| -4.359687132659246|\n",
            "| 2.8220210520564137|\n",
            "| -7.237471516969549|\n",
            "| -3.258126668385387|\n",
            "| -5.441577173006067|\n",
            "|  3.973489505344162|\n",
            "| -18.28401399152949|\n",
            "|-14.834313198173504|\n",
            "| 17.022651824096158|\n",
            "| -7.052394068837771|\n",
            "| -6.563652413876241|\n",
            "|  2.161837165486588|\n",
            "|   7.86385087753132|\n",
            "| -9.182719178670311|\n",
            "| 1.4094137497372685|\n",
            "+-------------------+\n",
            "only showing top 20 rows\n",
            "\n"
          ]
        }
      ]
    },
    {
      "cell_type": "code",
      "metadata": {
        "colab": {
          "base_uri": "https://localhost:8080/"
        },
        "id": "fVq-Dxun_r1r",
        "outputId": "4247241d-54cc-455a-80e1-d8c15442b68c"
      },
      "source": [
        "test_results.rootMeanSquaredError"
      ],
      "execution_count": 66,
      "outputs": [
        {
          "output_type": "execute_result",
          "data": {
            "text/plain": [
              "10.367356677462476"
            ]
          },
          "metadata": {},
          "execution_count": 66
        }
      ]
    },
    {
      "cell_type": "code",
      "metadata": {
        "colab": {
          "base_uri": "https://localhost:8080/"
        },
        "id": "brzYmUuY_zve",
        "outputId": "1cdcaf1f-8db7-45cd-f247-e6623be9c557"
      },
      "source": [
        "test_results.r2"
      ],
      "execution_count": 67,
      "outputs": [
        {
          "output_type": "execute_result",
          "data": {
            "text/plain": [
              "0.982960859798049"
            ]
          },
          "metadata": {},
          "execution_count": 67
        }
      ]
    },
    {
      "cell_type": "code",
      "metadata": {
        "colab": {
          "base_uri": "https://localhost:8080/"
        },
        "id": "3HVSt8WEAHC_",
        "outputId": "f24f5715-5a22-4bcf-a157-783c090e3357"
      },
      "source": [
        "final_data.describe().show()"
      ],
      "execution_count": 68,
      "outputs": [
        {
          "output_type": "stream",
          "name": "stdout",
          "text": [
            "+-------+-------------------+\n",
            "|summary|Yearly Amount Spent|\n",
            "+-------+-------------------+\n",
            "|  count|                500|\n",
            "|   mean|  499.3140382585909|\n",
            "| stddev|   79.3147815497068|\n",
            "|    min| 256.67058229005585|\n",
            "|    max|  765.5184619388373|\n",
            "+-------+-------------------+\n",
            "\n"
          ]
        }
      ]
    },
    {
      "cell_type": "code",
      "metadata": {
        "colab": {
          "base_uri": "https://localhost:8080/"
        },
        "id": "fXk35iX2ApNr",
        "outputId": "9817b104-701a-4fdc-a68c-dd49bd93cfe7"
      },
      "source": [
        "#deploying the model for only features \n",
        "\n",
        "unlabeled_data=test_data.select(\"features\")\n",
        "unlabeled_data.show()\n",
        "predictions=lr_model.transform(unlabeled_data)\n",
        "predictions.show()"
      ],
      "execution_count": 70,
      "outputs": [
        {
          "output_type": "stream",
          "name": "stdout",
          "text": [
            "+--------------------+\n",
            "|            features|\n",
            "+--------------------+\n",
            "|[30.8364326747734...|\n",
            "|[30.9716756438877...|\n",
            "|[31.1239743499119...|\n",
            "|[31.2681042107507...|\n",
            "|[31.3091926408918...|\n",
            "|[31.4252268808548...|\n",
            "|[31.4459724827577...|\n",
            "|[31.4474464941278...|\n",
            "|[31.5171218025062...|\n",
            "|[31.5257524169682...|\n",
            "|[31.5316044825729...|\n",
            "|[31.5702008293202...|\n",
            "|[31.5741380228732...|\n",
            "|[31.6098395733896...|\n",
            "|[31.7207699002873...|\n",
            "|[31.7242025238451...|\n",
            "|[31.7366356860502...|\n",
            "|[31.8209982016720...|\n",
            "|[31.8279790554652...|\n",
            "|[31.8293464559211...|\n",
            "+--------------------+\n",
            "only showing top 20 rows\n",
            "\n",
            "+--------------------+------------------+\n",
            "|            features|        prediction|\n",
            "+--------------------+------------------+\n",
            "|[30.8364326747734...|472.19206885186645|\n",
            "|[30.9716756438877...|488.23282533608153|\n",
            "|[31.1239743499119...| 509.0070550766993|\n",
            "|[31.2681042107507...| 427.5577171109105|\n",
            "|[31.3091926408918...|429.83303677736194|\n",
            "|[31.4252268808548...| 535.1264057874212|\n",
            "|[31.4459724827577...|482.05494388307216|\n",
            "|[31.4474464941278...|425.84021361219357|\n",
            "|[31.5171218025062...| 279.1765473187711|\n",
            "|[31.5257524169682...|449.40720398288795|\n",
            "|[31.5316044825729...| 432.5421162240184|\n",
            "|[31.5702008293202...| 564.2295061329344|\n",
            "|[31.5741380228732...| 559.2435853587604|\n",
            "|[31.6098395733896...|  427.522897827012|\n",
            "|[31.7207699002873...| 545.8273275468607|\n",
            "|[31.7242025238451...|509.95153970183674|\n",
            "|[31.7366356860502...|494.77160909004533|\n",
            "|[31.8209982016720...|416.81143013568203|\n",
            "|[31.8279790554652...|449.18546672561183|\n",
            "|[31.8293464559211...| 383.7429242382377|\n",
            "+--------------------+------------------+\n",
            "only showing top 20 rows\n",
            "\n"
          ]
        }
      ]
    }
  ]
}