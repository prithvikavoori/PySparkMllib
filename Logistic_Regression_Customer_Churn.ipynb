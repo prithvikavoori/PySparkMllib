{
  "nbformat": 4,
  "nbformat_minor": 0,
  "metadata": {
    "colab": {
      "name": "Logistic_Regression_Customer_Churn.ipynb",
      "provenance": [],
      "authorship_tag": "ABX9TyPm6SfiF4/Jx93DYcYJeSmH",
      "include_colab_link": true
    },
    "kernelspec": {
      "name": "python3",
      "display_name": "Python 3"
    },
    "language_info": {
      "name": "python"
    }
  },
  "cells": [
    {
      "cell_type": "markdown",
      "metadata": {
        "id": "view-in-github",
        "colab_type": "text"
      },
      "source": [
        "<a href=\"https://colab.research.google.com/github/prithvikavoori/PySparkMllib/blob/main/Logistic_Regression_Customer_Churn.ipynb\" target=\"_parent\"><img src=\"https://colab.research.google.com/assets/colab-badge.svg\" alt=\"Open In Colab\"/></a>"
      ]
    },
    {
      "cell_type": "markdown",
      "metadata": {
        "id": "Ymh03bPdI-Jt"
      },
      "source": [
        "we are building a machine learning logistic regression model to help the managers of marketing agency company to identify which customers will churn and which customers will continue to be their client. The data used in this model is attached to it. always attach the data when you restart a google colaboratory.Then the company can test this against incoming data for future customers to predict which customers will churn and assign them an account manager."
      ]
    },
    {
      "cell_type": "code",
      "metadata": {
        "id": "EJ-48CozWwtX"
      },
      "source": [
        "# innstall java\n",
        "!apt-get install openjdk-8-jdk-headless -qq > /dev/null"
      ],
      "execution_count": 1,
      "outputs": []
    },
    {
      "cell_type": "code",
      "metadata": {
        "id": "B9Qtm8CDIlNy"
      },
      "source": [
        "# install spark (change the version number if needed)\n",
        "!wget -q https://archive.apache.org/dist/spark/spark-3.0.0/spark-3.0.0-bin-hadoop3.2.tgz"
      ],
      "execution_count": 2,
      "outputs": []
    },
    {
      "cell_type": "code",
      "metadata": {
        "id": "6rF_CHuXKjr_"
      },
      "source": [
        "# unzip the spark file to the current folder\n",
        "!tar xf spark-3.0.0-bin-hadoop3.2.tgz\n"
      ],
      "execution_count": 3,
      "outputs": []
    },
    {
      "cell_type": "code",
      "metadata": {
        "id": "vOn_1rYiKqlk"
      },
      "source": [
        "# set your spark folder to your system path environment. \n",
        "import os\n",
        "os.environ[\"JAVA_HOME\"] = \"/usr/lib/jvm/java-8-openjdk-amd64\"\n",
        "os.environ[\"SPARK_HOME\"] = \"/content/spark-3.0.0-bin-hadoop3.2\""
      ],
      "execution_count": 4,
      "outputs": []
    },
    {
      "cell_type": "code",
      "metadata": {
        "id": "F_YyJZ9nKyJ2"
      },
      "source": [
        "# install findspark using pip\n",
        "!pip install -q findspark"
      ],
      "execution_count": 5,
      "outputs": []
    },
    {
      "cell_type": "code",
      "metadata": {
        "id": "girndbQTK6IQ"
      },
      "source": [
        "import findspark\n",
        "findspark.init()"
      ],
      "execution_count": 6,
      "outputs": []
    },
    {
      "cell_type": "code",
      "metadata": {
        "id": "MNVJsyYmLPm6"
      },
      "source": [
        "from pyspark.sql import SparkSession"
      ],
      "execution_count": 7,
      "outputs": []
    },
    {
      "cell_type": "code",
      "metadata": {
        "id": "8864IiKuLlBL"
      },
      "source": [
        "spark = SparkSession.builder.appName('logisticregresioncustomerchurn').getOrCreate()"
      ],
      "execution_count": 8,
      "outputs": []
    },
    {
      "cell_type": "code",
      "metadata": {
        "id": "4Fk_VzqXLvXE"
      },
      "source": [
        "data = spark.read.csv('/customer_churn.csv',inferSchema=True,\n",
        "                     header=True)"
      ],
      "execution_count": 9,
      "outputs": []
    },
    {
      "cell_type": "code",
      "metadata": {
        "colab": {
          "base_uri": "https://localhost:8080/"
        },
        "id": "HHkCRppqMF7R",
        "outputId": "7ac1c453-2108-4c6f-b391-d6b61893dc20"
      },
      "source": [
        "data.printSchema()"
      ],
      "execution_count": 10,
      "outputs": [
        {
          "output_type": "stream",
          "name": "stdout",
          "text": [
            "root\n",
            " |-- Names: string (nullable = true)\n",
            " |-- Age: double (nullable = true)\n",
            " |-- Total_Purchase: double (nullable = true)\n",
            " |-- Account_Manager: integer (nullable = true)\n",
            " |-- Years: double (nullable = true)\n",
            " |-- Num_Sites: double (nullable = true)\n",
            " |-- Onboard_date: string (nullable = true)\n",
            " |-- Location: string (nullable = true)\n",
            " |-- Company: string (nullable = true)\n",
            " |-- Churn: integer (nullable = true)\n",
            "\n"
          ]
        }
      ]
    },
    {
      "cell_type": "code",
      "metadata": {
        "colab": {
          "base_uri": "https://localhost:8080/"
        },
        "id": "IZyevZdpMQ_F",
        "outputId": "3477ba5b-abdd-4790-d1bc-3dc7325d8e0a"
      },
      "source": [
        "data.describe().show()"
      ],
      "execution_count": 11,
      "outputs": [
        {
          "output_type": "stream",
          "name": "stdout",
          "text": [
            "+-------+-------------+-----------------+-----------------+------------------+-----------------+------------------+-------------------+--------------------+--------------------+-------------------+\n",
            "|summary|        Names|              Age|   Total_Purchase|   Account_Manager|            Years|         Num_Sites|       Onboard_date|            Location|             Company|              Churn|\n",
            "+-------+-------------+-----------------+-----------------+------------------+-----------------+------------------+-------------------+--------------------+--------------------+-------------------+\n",
            "|  count|          900|              900|              900|               900|              900|               900|                900|                 900|                 900|                900|\n",
            "|   mean|         null|41.81666666666667|10062.82403333334|0.4811111111111111| 5.27315555555555| 8.587777777777777|               null|                null|                null|0.16666666666666666|\n",
            "| stddev|         null|6.127560416916251|2408.644531858096|0.4999208935073339|1.274449013194616|1.7648355920350969|               null|                null|                null| 0.3728852122772358|\n",
            "|    min|   Aaron King|             22.0|            100.0|                 0|              1.0|               3.0|2006-01-02 04:16:13|00103 Jeffrey Cre...|     Abbott-Thompson|                  0|\n",
            "|    max|Zachary Walsh|             65.0|         18026.01|                 1|             9.15|              14.0|2016-12-28 04:07:38|Unit 9800 Box 287...|Zuniga, Clark and...|                  1|\n",
            "+-------+-------------+-----------------+-----------------+------------------+-----------------+------------------+-------------------+--------------------+--------------------+-------------------+\n",
            "\n"
          ]
        }
      ]
    },
    {
      "cell_type": "code",
      "metadata": {
        "colab": {
          "base_uri": "https://localhost:8080/"
        },
        "id": "xrqjgYqNMZEH",
        "outputId": "324446bd-cb1f-4d9e-f207-abde19ec1df0"
      },
      "source": [
        "data.columns"
      ],
      "execution_count": 12,
      "outputs": [
        {
          "output_type": "execute_result",
          "data": {
            "text/plain": [
              "['Names',\n",
              " 'Age',\n",
              " 'Total_Purchase',\n",
              " 'Account_Manager',\n",
              " 'Years',\n",
              " 'Num_Sites',\n",
              " 'Onboard_date',\n",
              " 'Location',\n",
              " 'Company',\n",
              " 'Churn']"
            ]
          },
          "metadata": {},
          "execution_count": 12
        }
      ]
    },
    {
      "cell_type": "code",
      "metadata": {
        "id": "_3nX9sEQMfxx"
      },
      "source": [
        "# formating data for machine learning we will be eliminating string values \n",
        "\n",
        "from pyspark.ml.feature import VectorAssembler"
      ],
      "execution_count": 13,
      "outputs": []
    },
    {
      "cell_type": "code",
      "metadata": {
        "id": "-PhayrUvM5T7"
      },
      "source": [
        "assembler = VectorAssembler(inputCols=['Age',\n",
        " 'Total_Purchase',\n",
        " 'Account_Manager',\n",
        " 'Years',\n",
        " 'Num_Sites'],outputCol='features')"
      ],
      "execution_count": 14,
      "outputs": []
    },
    {
      "cell_type": "code",
      "metadata": {
        "id": "56tIkrurM85g"
      },
      "source": [
        "output = assembler.transform(data)"
      ],
      "execution_count": 15,
      "outputs": []
    },
    {
      "cell_type": "code",
      "metadata": {
        "id": "NKVPyW2BNDvN"
      },
      "source": [
        "final_data = output.select('features','churn')"
      ],
      "execution_count": 16,
      "outputs": []
    },
    {
      "cell_type": "code",
      "metadata": {
        "id": "BREGiyXSNJK4"
      },
      "source": [
        "#spliting the data in to train and test \n",
        "train_churn,test_churn = final_data.randomSplit([0.7,0.3])"
      ],
      "execution_count": 17,
      "outputs": []
    },
    {
      "cell_type": "code",
      "metadata": {
        "id": "7xr6uEiPNY_6"
      },
      "source": [
        "# fitting the model \n",
        "\n",
        "from pyspark.ml.classification import LogisticRegression"
      ],
      "execution_count": 18,
      "outputs": []
    },
    {
      "cell_type": "code",
      "metadata": {
        "id": "o6LQQlZpNoea"
      },
      "source": [
        "lr_churn = LogisticRegression(labelCol='churn')"
      ],
      "execution_count": 19,
      "outputs": []
    },
    {
      "cell_type": "code",
      "metadata": {
        "id": "H17jZE4XNv6m"
      },
      "source": [
        "fitted_churn_model = lr_churn.fit(train_churn)"
      ],
      "execution_count": 20,
      "outputs": []
    },
    {
      "cell_type": "code",
      "metadata": {
        "id": "S47Do8dEN2x-"
      },
      "source": [
        "training_sum = fitted_churn_model.summary"
      ],
      "execution_count": 22,
      "outputs": []
    },
    {
      "cell_type": "code",
      "metadata": {
        "colab": {
          "base_uri": "https://localhost:8080/"
        },
        "id": "A4SjOZdaOAff",
        "outputId": "f91f2f0d-73d6-48dd-c261-a779afae9835"
      },
      "source": [
        "training_sum.predictions.describe().show()"
      ],
      "execution_count": 23,
      "outputs": [
        {
          "output_type": "stream",
          "name": "stdout",
          "text": [
            "+-------+-------------------+-------------------+\n",
            "|summary|              churn|         prediction|\n",
            "+-------+-------------------+-------------------+\n",
            "|  count|                636|                636|\n",
            "|   mean|0.16981132075471697|0.13364779874213836|\n",
            "| stddev| 0.3757624843688367| 0.3405413409452437|\n",
            "|    min|                0.0|                0.0|\n",
            "|    max|                1.0|                1.0|\n",
            "+-------+-------------------+-------------------+\n",
            "\n"
          ]
        }
      ]
    },
    {
      "cell_type": "code",
      "metadata": {
        "id": "2udUFBDoOINe"
      },
      "source": [
        "#Evaluating the model using the test data \n",
        "from pyspark.ml.evaluation import BinaryClassificationEvaluator\n"
      ],
      "execution_count": 24,
      "outputs": []
    },
    {
      "cell_type": "code",
      "metadata": {
        "id": "dIhEGf8_OmVH"
      },
      "source": [
        "pred_and_labels = fitted_churn_model.evaluate(test_churn)"
      ],
      "execution_count": 25,
      "outputs": []
    },
    {
      "cell_type": "code",
      "metadata": {
        "colab": {
          "base_uri": "https://localhost:8080/"
        },
        "id": "g08wN3a5Oub9",
        "outputId": "e1c4a36e-4319-4f90-a68e-0be2a49737d4"
      },
      "source": [
        "pred_and_labels.predictions.show()"
      ],
      "execution_count": 26,
      "outputs": [
        {
          "output_type": "stream",
          "name": "stdout",
          "text": [
            "+--------------------+-----+--------------------+--------------------+----------+\n",
            "|            features|churn|       rawPrediction|         probability|prediction|\n",
            "+--------------------+-----+--------------------+--------------------+----------+\n",
            "|[22.0,11254.38,1....|    0|[4.81405794433994...|[0.99195045780226...|       0.0|\n",
            "|[27.0,8628.8,1.0,...|    0|[5.48979961667903...|[0.99588830443167...|       0.0|\n",
            "|[29.0,12711.15,0....|    0|[6.03610259880077...|[0.99761484365697...|       0.0|\n",
            "|[30.0,6744.87,0.0...|    0|[3.62783530934458...|[0.97411423328275...|       0.0|\n",
            "|[30.0,8403.78,1.0...|    0|[5.94776186146236...|[0.99739512381911...|       0.0|\n",
            "|[30.0,8677.28,1.0...|    0|[4.13169202112987...|[0.98419802238141...|       0.0|\n",
            "|[30.0,10960.52,1....|    0|[2.40643044883760...|[0.91731634487096...|       0.0|\n",
            "|[30.0,12788.37,0....|    0|[2.96341472713700...|[0.95089368991660...|       0.0|\n",
            "|[31.0,5387.75,0.0...|    0|[2.56001503107025...|[0.92824345892530...|       0.0|\n",
            "|[31.0,7073.61,0.0...|    0|[3.22794935949031...|[0.96187261957615...|       0.0|\n",
            "|[31.0,8829.83,1.0...|    0|[4.38975962172252...|[0.98774825663250...|       0.0|\n",
            "|[31.0,9574.89,0.0...|    0|[3.63611266079232...|[0.97432213536227...|       0.0|\n",
            "|[31.0,10182.6,1.0...|    0|[4.84970681376354...|[0.99223016994064...|       0.0|\n",
            "|[32.0,6367.22,1.0...|    0|[2.67853389226001...|[0.93574803213587...|       0.0|\n",
            "|[32.0,8011.38,0.0...|    0|[2.12258509792890...|[0.89307902856396...|       0.0|\n",
            "|[32.0,10716.75,0....|    0|[4.86453238538691...|[0.99234363697448...|       0.0|\n",
            "|[32.0,11715.72,0....|    0|[3.83541013062974...|[0.97886389992146...|       0.0|\n",
            "|[32.0,12479.72,0....|    0|[5.16173071477329...|[0.99430089492987...|       0.0|\n",
            "|[32.0,12547.91,0....|    0|[0.83140972330109...|[0.69665292586639...|       0.0|\n",
            "|[33.0,7720.61,1.0...|    0|[1.41907850770597...|[0.80519391484070...|       0.0|\n",
            "+--------------------+-----+--------------------+--------------------+----------+\n",
            "only showing top 20 rows\n",
            "\n"
          ]
        }
      ]
    },
    {
      "cell_type": "code",
      "metadata": {
        "id": "fJVcRvGIO21k"
      },
      "source": [
        "# using Area under curve (AUC) to evaluate our model \n",
        "churn_eval = BinaryClassificationEvaluator(rawPredictionCol='prediction',\n",
        "                                           labelCol='churn')"
      ],
      "execution_count": 27,
      "outputs": []
    },
    {
      "cell_type": "code",
      "metadata": {
        "id": "sOdiymMfPIUn"
      },
      "source": [
        "auc = churn_eval.evaluate(pred_and_labels.predictions)"
      ],
      "execution_count": 28,
      "outputs": []
    },
    {
      "cell_type": "code",
      "metadata": {
        "colab": {
          "base_uri": "https://localhost:8080/"
        },
        "id": "wlqZuneBPME5",
        "outputId": "b7b04cf6-dcb7-40f4-dcbe-ce0c3b8c746a"
      },
      "source": [
        "auc"
      ],
      "execution_count": 29,
      "outputs": [
        {
          "output_type": "execute_result",
          "data": {
            "text/plain": [
              "0.7445302445302446"
            ]
          },
          "metadata": {},
          "execution_count": 29
        }
      ]
    },
    {
      "cell_type": "markdown",
      "metadata": {
        "id": "jpiHfQ-EPqXK"
      },
      "source": [
        "Now we are testing the model in the data which is outside of the data used to build this model . that is the customers data and our model is going to preict if the customer will churn or not "
      ]
    },
    {
      "cell_type": "code",
      "metadata": {
        "id": "v_nv2T7KPPSB"
      },
      "source": [
        "final_lr_model = lr_churn.fit(final_data)"
      ],
      "execution_count": 30,
      "outputs": []
    },
    {
      "cell_type": "code",
      "metadata": {
        "id": "OkxWvRgAQJjo"
      },
      "source": [
        "new_customers = spark.read.csv('/new_customers.csv',inferSchema=True,\n",
        "                              header=True)"
      ],
      "execution_count": 31,
      "outputs": []
    },
    {
      "cell_type": "code",
      "metadata": {
        "colab": {
          "base_uri": "https://localhost:8080/"
        },
        "id": "8ZIqLf8LQgT7",
        "outputId": "be49b5f2-bf01-4cd7-bc31-e6f2779f2ece"
      },
      "source": [
        "new_customers.printSchema()"
      ],
      "execution_count": 32,
      "outputs": [
        {
          "output_type": "stream",
          "name": "stdout",
          "text": [
            "root\n",
            " |-- Names: string (nullable = true)\n",
            " |-- Age: double (nullable = true)\n",
            " |-- Total_Purchase: double (nullable = true)\n",
            " |-- Account_Manager: integer (nullable = true)\n",
            " |-- Years: double (nullable = true)\n",
            " |-- Num_Sites: double (nullable = true)\n",
            " |-- Onboard_date: string (nullable = true)\n",
            " |-- Location: string (nullable = true)\n",
            " |-- Company: string (nullable = true)\n",
            "\n"
          ]
        }
      ]
    },
    {
      "cell_type": "code",
      "metadata": {
        "id": "ciQB0W03Qjsr"
      },
      "source": [
        "test_new_customers = assembler.transform(new_customers)"
      ],
      "execution_count": 33,
      "outputs": []
    },
    {
      "cell_type": "code",
      "metadata": {
        "colab": {
          "base_uri": "https://localhost:8080/"
        },
        "id": "1Q-jAmeiQx1q",
        "outputId": "89e537fb-1dd3-45c5-e8ad-b3c0a9deece3"
      },
      "source": [
        "test_new_customers.printSchema()"
      ],
      "execution_count": 34,
      "outputs": [
        {
          "output_type": "stream",
          "name": "stdout",
          "text": [
            "root\n",
            " |-- Names: string (nullable = true)\n",
            " |-- Age: double (nullable = true)\n",
            " |-- Total_Purchase: double (nullable = true)\n",
            " |-- Account_Manager: integer (nullable = true)\n",
            " |-- Years: double (nullable = true)\n",
            " |-- Num_Sites: double (nullable = true)\n",
            " |-- Onboard_date: string (nullable = true)\n",
            " |-- Location: string (nullable = true)\n",
            " |-- Company: string (nullable = true)\n",
            " |-- features: vector (nullable = true)\n",
            "\n"
          ]
        }
      ]
    },
    {
      "cell_type": "code",
      "metadata": {
        "id": "pwR6gLO5Q4gH"
      },
      "source": [
        "final_results = final_lr_model.transform(test_new_customers)"
      ],
      "execution_count": 35,
      "outputs": []
    },
    {
      "cell_type": "code",
      "metadata": {
        "colab": {
          "base_uri": "https://localhost:8080/"
        },
        "id": "ey2crAFgQ-aM",
        "outputId": "d2f933ac-06ad-406d-fb01-ea5efd8cfe8a"
      },
      "source": [
        "final_results.select('Company','prediction').show()"
      ],
      "execution_count": 36,
      "outputs": [
        {
          "output_type": "stream",
          "name": "stdout",
          "text": [
            "+----------------+----------+\n",
            "|         Company|prediction|\n",
            "+----------------+----------+\n",
            "|        King Ltd|       0.0|\n",
            "|   Cannon-Benson|       1.0|\n",
            "|Barron-Robertson|       1.0|\n",
            "|   Sexton-Golden|       1.0|\n",
            "|        Wood LLC|       0.0|\n",
            "|   Parks-Robbins|       1.0|\n",
            "+----------------+----------+\n",
            "\n"
          ]
        }
      ]
    },
    {
      "cell_type": "code",
      "metadata": {
        "id": "uZ3pW43NRB6H"
      },
      "source": [
        ""
      ],
      "execution_count": null,
      "outputs": []
    }
  ]
}