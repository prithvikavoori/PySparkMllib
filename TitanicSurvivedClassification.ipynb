{
  "nbformat": 4,
  "nbformat_minor": 0,
  "metadata": {
    "colab": {
      "name": "TitanicSurvivedClassification.ipynb",
      "provenance": [],
      "authorship_tag": "ABX9TyN7ZMvBmypmML5KS9yikIgv",
      "include_colab_link": true
    },
    "kernelspec": {
      "name": "python3",
      "display_name": "Python 3"
    },
    "language_info": {
      "name": "python"
    }
  },
  "cells": [
    {
      "cell_type": "markdown",
      "metadata": {
        "id": "view-in-github",
        "colab_type": "text"
      },
      "source": [
        "<a href=\"https://colab.research.google.com/github/prithvikavoori/PySparkMllib/blob/main/TitanicSurvivedClassification.ipynb\" target=\"_parent\"><img src=\"https://colab.research.google.com/assets/colab-badge.svg\" alt=\"Open In Colab\"/></a>"
      ]
    },
    {
      "cell_type": "markdown",
      "metadata": {
        "id": "sm8CbyyC1X5P"
      },
      "source": [
        "In this model we will be using a titanic data set to see if the passengers survived or not using logistic regression Mllib. the data can be found in with name titanic.csv"
      ]
    },
    {
      "cell_type": "code",
      "metadata": {
        "id": "WccFG9ie2VUO"
      },
      "source": [
        "# innstall java\n",
        "!apt-get install openjdk-8-jdk-headless -qq > /dev/null"
      ],
      "execution_count": 3,
      "outputs": []
    },
    {
      "cell_type": "code",
      "metadata": {
        "id": "uyzbkYxj2dXU"
      },
      "source": [
        "# install spark (change the version number if needed)\n",
        "!wget -q https://archive.apache.org/dist/spark/spark-3.0.0/spark-3.0.0-bin-hadoop3.2.tgz"
      ],
      "execution_count": 4,
      "outputs": []
    },
    {
      "cell_type": "code",
      "metadata": {
        "id": "_mgqB95B2h-w"
      },
      "source": [
        "# unzip the spark file to the current folder\n",
        "!tar xf spark-3.0.0-bin-hadoop3.2.tgz"
      ],
      "execution_count": 5,
      "outputs": []
    },
    {
      "cell_type": "code",
      "metadata": {
        "id": "PYu8tD8N2pHR"
      },
      "source": [
        "# set your spark folder to your system path environment. \n",
        "import os\n",
        "os.environ[\"JAVA_HOME\"] = \"/usr/lib/jvm/java-8-openjdk-amd64\"\n",
        "os.environ[\"SPARK_HOME\"] = \"/content/spark-3.0.0-bin-hadoop3.2\"\n"
      ],
      "execution_count": 6,
      "outputs": []
    },
    {
      "cell_type": "code",
      "metadata": {
        "id": "_JnHcQEy2vWA"
      },
      "source": [
        "# install findspark using pip\n",
        "!pip install -q findspark"
      ],
      "execution_count": 7,
      "outputs": []
    },
    {
      "cell_type": "code",
      "metadata": {
        "id": "oN_OWRZ42ye2"
      },
      "source": [
        "\n",
        "import findspark\n",
        "findspark.init()"
      ],
      "execution_count": 9,
      "outputs": []
    },
    {
      "cell_type": "code",
      "metadata": {
        "id": "aCL9dyp72_nG"
      },
      "source": [
        "from pyspark.sql import SparkSession"
      ],
      "execution_count": 10,
      "outputs": []
    },
    {
      "cell_type": "code",
      "metadata": {
        "id": "eTug9TZt3PTr"
      },
      "source": [
        "spark = SparkSession.builder.appName('myproj').getOrCreate()"
      ],
      "execution_count": 11,
      "outputs": []
    },
    {
      "cell_type": "code",
      "metadata": {
        "id": "HzRdPfT73gHx"
      },
      "source": [
        "data = spark.read.csv('/content/titanic.csv',inferSchema=True,header=True)"
      ],
      "execution_count": 13,
      "outputs": []
    },
    {
      "cell_type": "code",
      "metadata": {
        "colab": {
          "base_uri": "https://localhost:8080/"
        },
        "id": "c4TC9zlu3pvi",
        "outputId": "b9c6a71f-5621-4ff1-d2ea-959179cc4f37"
      },
      "source": [
        "data.printSchema()"
      ],
      "execution_count": 14,
      "outputs": [
        {
          "output_type": "stream",
          "name": "stdout",
          "text": [
            "root\n",
            " |-- PassengerId: integer (nullable = true)\n",
            " |-- Survived: integer (nullable = true)\n",
            " |-- Pclass: integer (nullable = true)\n",
            " |-- Name: string (nullable = true)\n",
            " |-- Sex: string (nullable = true)\n",
            " |-- Age: double (nullable = true)\n",
            " |-- SibSp: integer (nullable = true)\n",
            " |-- Parch: integer (nullable = true)\n",
            " |-- Ticket: string (nullable = true)\n",
            " |-- Fare: double (nullable = true)\n",
            " |-- Cabin: string (nullable = true)\n",
            " |-- Embarked: string (nullable = true)\n",
            "\n"
          ]
        }
      ]
    },
    {
      "cell_type": "code",
      "metadata": {
        "colab": {
          "base_uri": "https://localhost:8080/"
        },
        "id": "Sj7jMvED4G2U",
        "outputId": "bdb2455a-1b86-4822-cb60-f74c5cba43bc"
      },
      "source": [
        "data.columns"
      ],
      "execution_count": 15,
      "outputs": [
        {
          "output_type": "execute_result",
          "data": {
            "text/plain": [
              "['PassengerId',\n",
              " 'Survived',\n",
              " 'Pclass',\n",
              " 'Name',\n",
              " 'Sex',\n",
              " 'Age',\n",
              " 'SibSp',\n",
              " 'Parch',\n",
              " 'Ticket',\n",
              " 'Fare',\n",
              " 'Cabin',\n",
              " 'Embarked']"
            ]
          },
          "metadata": {},
          "execution_count": 15
        }
      ]
    },
    {
      "cell_type": "code",
      "metadata": {
        "id": "TPtcoPh24OGI"
      },
      "source": [
        "my_cols = data.select(['Survived',\n",
        " 'Pclass',\n",
        " 'Sex',\n",
        " 'Age',\n",
        " 'SibSp',\n",
        " 'Parch',\n",
        " 'Fare',\n",
        " 'Embarked'])"
      ],
      "execution_count": 16,
      "outputs": []
    },
    {
      "cell_type": "code",
      "metadata": {
        "id": "x96mjmEQ4z_1"
      },
      "source": [
        "# dropping the missing data \n",
        "\n",
        "my_final_data = my_cols.na.drop()"
      ],
      "execution_count": 17,
      "outputs": []
    },
    {
      "cell_type": "code",
      "metadata": {
        "id": "5DFzzl0w5MhH"
      },
      "source": [
        "# need to import this libraries to convert string in to number or categorical values \n",
        "from pyspark.ml.feature import (VectorAssembler,VectorIndexer,\n",
        "                                OneHotEncoder,StringIndexer)"
      ],
      "execution_count": 18,
      "outputs": []
    },
    {
      "cell_type": "code",
      "metadata": {
        "id": "pK9GT3Ci5vA8"
      },
      "source": [
        "# StringIndexer is used to convert string in to categorical value \n",
        "#oneHotEncoder is used to convert categorical value in to a vector \n",
        "gender_indexer = StringIndexer(inputCol='Sex',outputCol='SexIndex')\n",
        "gender_encoder = OneHotEncoder(inputCol='SexIndex',outputCol='SexVec')"
      ],
      "execution_count": 19,
      "outputs": []
    },
    {
      "cell_type": "code",
      "metadata": {
        "id": "U4_BUzOG65gk"
      },
      "source": [
        "embark_indexer = StringIndexer(inputCol='Embarked',outputCol='EmbarkIndex')\n",
        "embark_encoder = OneHotEncoder(inputCol='EmbarkIndex',outputCol='EmbarkVec')"
      ],
      "execution_count": 20,
      "outputs": []
    },
    {
      "cell_type": "code",
      "metadata": {
        "id": "fyGCDx_G7EmT"
      },
      "source": [
        "# we only want these columns for our classification\n",
        "assembler = VectorAssembler(inputCols=['Pclass',\n",
        " 'SexVec',\n",
        " 'Age',\n",
        " 'SibSp',\n",
        " 'Parch',\n",
        " 'Fare',\n",
        " 'EmbarkVec'],outputCol='features')"
      ],
      "execution_count": 21,
      "outputs": []
    },
    {
      "cell_type": "code",
      "metadata": {
        "id": "cjuY9v_l7mRZ"
      },
      "source": [
        "# importing logistic regresion\n",
        "from pyspark.ml.classification import LogisticRegression"
      ],
      "execution_count": 22,
      "outputs": []
    },
    {
      "cell_type": "code",
      "metadata": {
        "id": "ksGY3_hD8AKn"
      },
      "source": [
        "log_reg_titanic = LogisticRegression(featuresCol='features',labelCol='Survived')"
      ],
      "execution_count": 23,
      "outputs": []
    },
    {
      "cell_type": "code",
      "metadata": {
        "id": "g1O1bJAX8pex"
      },
      "source": [
        "from pyspark.ml import Pipeline"
      ],
      "execution_count": 26,
      "outputs": []
    },
    {
      "cell_type": "code",
      "metadata": {
        "id": "YzXOOWar8sql"
      },
      "source": [
        "# creating a pipeline (the steps at which the model needs to perform)\n",
        "pipeline = Pipeline(stages=[gender_indexer,embark_indexer,\n",
        "                           gender_encoder,embark_encoder,\n",
        "                           assembler,log_reg_titanic])"
      ],
      "execution_count": 27,
      "outputs": []
    },
    {
      "cell_type": "code",
      "metadata": {
        "id": "PRI70AJO8_iA"
      },
      "source": [
        "#spliting the data \n",
        "train_titanic_data, test_titanic_data = my_final_data.randomSplit([0.7,.3])"
      ],
      "execution_count": 28,
      "outputs": []
    },
    {
      "cell_type": "code",
      "metadata": {
        "colab": {
          "base_uri": "https://localhost:8080/"
        },
        "id": "TW_UnBPV9OTi",
        "outputId": "39abc3c1-e08a-4e44-c392-8441938f0795"
      },
      "source": [
        "train_titanic_data.show()"
      ],
      "execution_count": 29,
      "outputs": [
        {
          "output_type": "stream",
          "name": "stdout",
          "text": [
            "+--------+------+------+----+-----+-----+--------+--------+\n",
            "|Survived|Pclass|   Sex| Age|SibSp|Parch|    Fare|Embarked|\n",
            "+--------+------+------+----+-----+-----+--------+--------+\n",
            "|       0|     1|female| 2.0|    1|    2|  151.55|       S|\n",
            "|       0|     1|female|25.0|    1|    2|  151.55|       S|\n",
            "|       0|     1|  male|19.0|    1|    0|    53.1|       S|\n",
            "|       0|     1|  male|19.0|    3|    2|   263.0|       S|\n",
            "|       0|     1|  male|21.0|    0|    1| 77.2875|       S|\n",
            "|       0|     1|  male|22.0|    0|    0|135.6333|       C|\n",
            "|       0|     1|  male|24.0|    0|    0|    79.2|       C|\n",
            "|       0|     1|  male|24.0|    0|    1|247.5208|       C|\n",
            "|       0|     1|  male|27.0|    0|    2|   211.5|       C|\n",
            "|       0|     1|  male|28.0|    1|    0| 82.1708|       C|\n",
            "|       0|     1|  male|29.0|    0|    0|    30.0|       S|\n",
            "|       0|     1|  male|31.0|    0|    0| 50.4958|       S|\n",
            "|       0|     1|  male|31.0|    1|    0|    52.0|       S|\n",
            "|       0|     1|  male|33.0|    0|    0|     5.0|       S|\n",
            "|       0|     1|  male|36.0|    0|    0|  40.125|       C|\n",
            "|       0|     1|  male|37.0|    1|    0|    53.1|       S|\n",
            "|       0|     1|  male|38.0|    0|    0|     0.0|       S|\n",
            "|       0|     1|  male|42.0|    1|    0|    52.0|       S|\n",
            "|       0|     1|  male|44.0|    2|    0|    90.0|       Q|\n",
            "|       0|     1|  male|45.0|    0|    0|   26.55|       S|\n",
            "+--------+------+------+----+-----+-----+--------+--------+\n",
            "only showing top 20 rows\n",
            "\n"
          ]
        }
      ]
    },
    {
      "cell_type": "code",
      "metadata": {
        "colab": {
          "base_uri": "https://localhost:8080/"
        },
        "id": "uycYYb1J9Tzj",
        "outputId": "0bd70749-fc5a-4edf-c842-f6171aca0882"
      },
      "source": [
        "train_titanic_data.describe().show()"
      ],
      "execution_count": 30,
      "outputs": [
        {
          "output_type": "stream",
          "name": "stdout",
          "text": [
            "+-------+-------------------+------------------+------+------------------+------------------+------------------+-----------------+--------+\n",
            "|summary|           Survived|            Pclass|   Sex|               Age|             SibSp|             Parch|             Fare|Embarked|\n",
            "+-------+-------------------+------------------+------+------------------+------------------+------------------+-----------------+--------+\n",
            "|  count|                520|               520|   520|               520|               520|               520|              520|     520|\n",
            "|   mean|0.40576923076923077|              2.25|  null|          29.31475|0.5346153846153846|0.4326923076923077|36.81181019230768|    null|\n",
            "| stddev|0.49151312185443347|0.8276298075020596|  null|14.701287045193146|0.9670654845462235|0.8324398648850077|58.52184258134458|    null|\n",
            "|    min|                  0|                 1|female|              0.42|                 0|                 0|              0.0|       C|\n",
            "|    max|                  1|                 3|  male|              71.0|                 5|                 5|         512.3292|       S|\n",
            "+-------+-------------------+------------------+------+------------------+------------------+------------------+-----------------+--------+\n",
            "\n"
          ]
        }
      ]
    },
    {
      "cell_type": "code",
      "metadata": {
        "colab": {
          "base_uri": "https://localhost:8080/"
        },
        "id": "zRD5iMMO9hOw",
        "outputId": "1b404f06-0d0a-4784-9df4-c2d70d89b211"
      },
      "source": [
        "test_titanic_data.describe().show()"
      ],
      "execution_count": 32,
      "outputs": [
        {
          "output_type": "stream",
          "name": "stdout",
          "text": [
            "+-------+------------------+------------------+------+------------------+------------------+------------------+------------------+--------+\n",
            "|summary|          Survived|            Pclass|   Sex|               Age|             SibSp|             Parch|              Fare|Embarked|\n",
            "+-------+------------------+------------------+------+------------------+------------------+------------------+------------------+--------+\n",
            "|  count|               192|               192|   192|               192|               192|               192|               192|     192|\n",
            "|   mean|0.4010416666666667|2.2135416666666665|  null|30.528645833333332|0.4583333333333333|0.4322916666666667|28.488238020833332|    null|\n",
            "| stddev|0.4913907588019448|0.8629815346488312|  null|13.911668319584058|0.8239436094498386|0.9127364978377743| 32.79225912825016|    null|\n",
            "|    min|                 0|                 1|female|               1.0|                 0|                 0|               0.0|       C|\n",
            "|    max|                 1|                 3|  male|              80.0|                 4|                 6|           227.525|       S|\n",
            "+-------+------------------+------------------+------+------------------+------------------+------------------+------------------+--------+\n",
            "\n"
          ]
        }
      ]
    },
    {
      "cell_type": "code",
      "metadata": {
        "id": "exYruQ6R9qQO"
      },
      "source": [
        "#fitting the model on training data \n",
        "fit_model = pipeline.fit(train_titanic_data)"
      ],
      "execution_count": 33,
      "outputs": []
    },
    {
      "cell_type": "code",
      "metadata": {
        "id": "p01YlgU0947i"
      },
      "source": [
        "results = fit_model.transform(test_titanic_data)"
      ],
      "execution_count": 34,
      "outputs": []
    },
    {
      "cell_type": "code",
      "metadata": {
        "colab": {
          "base_uri": "https://localhost:8080/"
        },
        "id": "PlnZxfvK9_gR",
        "outputId": "df335554-0929-4248-a9ef-eae519d979ce"
      },
      "source": [
        "results.show()"
      ],
      "execution_count": 36,
      "outputs": [
        {
          "output_type": "stream",
          "name": "stdout",
          "text": [
            "+--------+------+------+----+-----+-----+--------+--------+--------+-----------+-------------+-------------+--------------------+--------------------+--------------------+----------+\n",
            "|Survived|Pclass|   Sex| Age|SibSp|Parch|    Fare|Embarked|SexIndex|EmbarkIndex|       SexVec|    EmbarkVec|            features|       rawPrediction|         probability|prediction|\n",
            "+--------+------+------+----+-----+-----+--------+--------+--------+-----------+-------------+-------------+--------------------+--------------------+--------------------+----------+\n",
            "|       0|     1|female|50.0|    0|    0| 28.7125|       C|     1.0|        1.0|    (1,[],[])|(2,[1],[1.0])|(8,[0,2,5,7],[1.0...|[-2.3460484847928...|[0.08738037283475...|       1.0|\n",
            "|       0|     1|  male|18.0|    1|    0|   108.9|       C|     0.0|        1.0|(1,[0],[1.0])|(2,[1],[1.0])|[1.0,1.0,18.0,1.0...|[-0.9291927716263...|[0.28308851233696...|       1.0|\n",
            "|       0|     1|  male|28.0|    0|    0|    47.1|       S|     0.0|        0.0|(1,[0],[1.0])|(2,[0],[1.0])|[1.0,1.0,28.0,0.0...|[-0.1648642381663...|[0.45887704253340...|       1.0|\n",
            "|       0|     1|  male|29.0|    1|    0|    66.6|       S|     0.0|        0.0|(1,[0],[1.0])|(2,[0],[1.0])|[1.0,1.0,29.0,1.0...|[0.26322083390232...|[0.56542787863794...|       0.0|\n",
            "|       0|     1|  male|30.0|    0|    0|   27.75|       C|     0.0|        1.0|(1,[0],[1.0])|(2,[1],[1.0])|[1.0,1.0,30.0,0.0...|[-0.7306558015887...|[0.32505083277402...|       1.0|\n",
            "|       0|     1|  male|36.0|    1|    0|   78.85|       S|     0.0|        0.0|(1,[0],[1.0])|(2,[0],[1.0])|[1.0,1.0,36.0,1.0...|[0.52449127497455...|[0.62819737546576...|       0.0|\n",
            "|       0|     1|  male|37.0|    0|    1|    29.7|       C|     0.0|        1.0|(1,[0],[1.0])|(2,[1],[1.0])|[1.0,1.0,37.0,0.0...|[-0.3476091141459...|[0.41396232449162...|       1.0|\n",
            "|       0|     1|  male|38.0|    0|    1|153.4625|       S|     0.0|        0.0|(1,[0],[1.0])|(2,[0],[1.0])|[1.0,1.0,38.0,0.0...|[0.16401658839900...|[0.54091247115876...|       0.0|\n",
            "|       0|     1|  male|39.0|    0|    0|     0.0|       S|     0.0|        0.0|(1,[0],[1.0])|(2,[0],[1.0])|(8,[0,1,2,6],[1.0...|[0.35686776251217...|[0.58828199678362...|       0.0|\n",
            "|       0|     1|  male|40.0|    0|    0|     0.0|       S|     0.0|        0.0|(1,[0],[1.0])|(2,[0],[1.0])|(8,[0,1,2,6],[1.0...|[0.39712409749508...|[0.59799649794537...|       0.0|\n",
            "|       0|     1|  male|40.0|    0|    0| 27.7208|       C|     0.0|        1.0|(1,[0],[1.0])|(2,[1],[1.0])|[1.0,1.0,40.0,0.0...|[-0.3280435294745...|[0.41871673858251...|       1.0|\n",
            "|       0|     1|  male|47.0|    0|    0|    52.0|       S|     0.0|        0.0|(1,[0],[1.0])|(2,[0],[1.0])|[1.0,1.0,47.0,0.0...|[0.59179656498571...|[0.64377725486995...|       0.0|\n",
            "|       0|     1|  male|50.0|    1|    0| 106.425|       C|     0.0|        1.0|(1,[0],[1.0])|(2,[1],[1.0])|[1.0,1.0,50.0,1.0...|[0.36315661410651...|[0.58980434597661...|       0.0|\n",
            "|       0|     1|  male|51.0|    0|    1| 61.3792|       C|     0.0|        1.0|(1,[0],[1.0])|(2,[1],[1.0])|[1.0,1.0,51.0,0.0...|[0.16290358757244...|[0.54063607136912...|       0.0|\n",
            "|       0|     1|  male|56.0|    0|    0|   26.55|       S|     0.0|        0.0|(1,[0],[1.0])|(2,[0],[1.0])|[1.0,1.0,56.0,0.0...|[0.99674303713134...|[0.73041773916716...|       0.0|\n",
            "|       0|     1|  male|56.0|    0|    0| 30.6958|       C|     0.0|        1.0|(1,[0],[1.0])|(2,[1],[1.0])|[1.0,1.0,56.0,0.0...|[0.31107345361291...|[0.57714725733393...|       0.0|\n",
            "|       0|     1|  male|61.0|    0|    0| 32.3208|       S|     0.0|        0.0|(1,[0],[1.0])|(2,[0],[1.0])|[1.0,1.0,61.0,0.0...|[1.18835619416051...|[0.76644694196383...|       0.0|\n",
            "|       0|     1|  male|61.0|    0|    0|    33.5|       S|     0.0|        0.0|(1,[0],[1.0])|(2,[0],[1.0])|[1.0,1.0,61.0,0.0...|[1.18638053804863...|[0.76609310146308...|       0.0|\n",
            "|       0|     1|  male|64.0|    0|    0|    26.0|       S|     0.0|        0.0|(1,[0],[1.0])|(2,[0],[1.0])|[1.0,1.0,64.0,0.0...|[1.31971519839012...|[0.78913431905364...|       0.0|\n",
            "|       0|     1|  male|70.0|    1|    1|    71.0|       S|     0.0|        0.0|(1,[0],[1.0])|(2,[0],[1.0])|[1.0,1.0,70.0,1.0...|[2.01087813000253...|[0.88193448906684...|       0.0|\n",
            "+--------+------+------+----+-----+-----+--------+--------+--------+-----------+-------------+-------------+--------------------+--------------------+--------------------+----------+\n",
            "only showing top 20 rows\n",
            "\n"
          ]
        }
      ]
    },
    {
      "cell_type": "code",
      "metadata": {
        "id": "_jkyWlM9-B5k"
      },
      "source": [
        "# Evaluating a Model \n",
        "from pyspark.ml.evaluation import BinaryClassificationEvaluator"
      ],
      "execution_count": 37,
      "outputs": []
    },
    {
      "cell_type": "code",
      "metadata": {
        "id": "TpHOVCZS_FHu"
      },
      "source": [
        "my_eval = BinaryClassificationEvaluator(rawPredictionCol='prediction',\n",
        "                                       labelCol='Survived')"
      ],
      "execution_count": 38,
      "outputs": []
    },
    {
      "cell_type": "code",
      "metadata": {
        "colab": {
          "base_uri": "https://localhost:8080/"
        },
        "id": "TRBbXh_c_P8V",
        "outputId": "51b9081a-1328-4bd6-953a-5f64090125ee"
      },
      "source": [
        "results.select('Survived','prediction').show()"
      ],
      "execution_count": 39,
      "outputs": [
        {
          "output_type": "stream",
          "name": "stdout",
          "text": [
            "+--------+----------+\n",
            "|Survived|prediction|\n",
            "+--------+----------+\n",
            "|       0|       1.0|\n",
            "|       0|       1.0|\n",
            "|       0|       1.0|\n",
            "|       0|       0.0|\n",
            "|       0|       1.0|\n",
            "|       0|       0.0|\n",
            "|       0|       1.0|\n",
            "|       0|       0.0|\n",
            "|       0|       0.0|\n",
            "|       0|       0.0|\n",
            "|       0|       1.0|\n",
            "|       0|       0.0|\n",
            "|       0|       0.0|\n",
            "|       0|       0.0|\n",
            "|       0|       0.0|\n",
            "|       0|       0.0|\n",
            "|       0|       0.0|\n",
            "|       0|       0.0|\n",
            "|       0|       0.0|\n",
            "|       0|       0.0|\n",
            "+--------+----------+\n",
            "only showing top 20 rows\n",
            "\n"
          ]
        }
      ]
    },
    {
      "cell_type": "code",
      "metadata": {
        "id": "M1NW4JPo_TvY"
      },
      "source": [
        "#area under curve \n",
        "AUC = my_eval.evaluate(results)"
      ],
      "execution_count": 40,
      "outputs": []
    },
    {
      "cell_type": "code",
      "metadata": {
        "colab": {
          "base_uri": "https://localhost:8080/"
        },
        "id": "sesMZdiJ_Z0P",
        "outputId": "8358585d-1880-4c66-c771-5abe72bda8e8"
      },
      "source": [
        "AUC"
      ],
      "execution_count": 41,
      "outputs": [
        {
          "output_type": "execute_result",
          "data": {
            "text/plain": [
              "0.8352343308865049"
            ]
          },
          "metadata": {},
          "execution_count": 41
        }
      ]
    },
    {
      "cell_type": "code",
      "metadata": {
        "id": "uWgmuKiU_bGg"
      },
      "source": [
        ""
      ],
      "execution_count": null,
      "outputs": []
    }
  ]
}